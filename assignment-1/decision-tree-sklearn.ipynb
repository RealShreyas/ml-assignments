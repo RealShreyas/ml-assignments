{
 "cells": [
  {
   "cell_type": "code",
   "execution_count": 1,
   "metadata": {},
   "outputs": [],
   "source": [
    "import numpy as np\n",
    "import pandas as pd\n",
    "from sklearn.model_selection import train_test_split\n",
    "from sklearn.tree import DecisionTreeRegressor\n",
    "from sklearn.tree._tree import TREE_LEAF\n",
    "from sklearn.metrics import mean_squared_error\n",
    "from sklearn.metrics import r2_score\n",
    "from matplotlib import pyplot as plt\n",
    "from sklearn import tree\n",
    "\n",
    "%matplotlib inline"
   ]
  },
  {
   "cell_type": "code",
   "execution_count": 2,
   "metadata": {},
   "outputs": [],
   "source": [
    "#process input as pandas dataframe\n",
    "def process_input():\n",
    "    df = pd.read_csv(\"AggregatedCountriesCOVIDStats.csv\")\n",
    "    df['Date'] = pd.to_datetime(df['Date'], errors='coerce') #converting date to a pandas datetime format\n",
    "    df['Date_month'] = df['Date'].dt.month #extracting month from date\n",
    "    #df['Date_day'] = df['Date'].dt.day   #Can extract day from date but this doesn't help accuracy\n",
    "    del df[\"Date\"]      #deleting date column, will keep only month as feature\n",
    "    #df['Country'] = pd.Categorical(df['Country'])  #use categorical variable for countries\n",
    "    #df['Country_code'] = df['Country'].cat.codes   #map each country to numerical code\n",
    "    ohe = pd.get_dummies(df['Country'],prefix='Country')   #use one hot encoding for countries\n",
    "    df = df.join(ohe)\n",
    "    del df[\"Country\"]  #deleting country column since we dealt with it via above\n",
    "    new_deaths = df['Deaths']\n",
    "    del df['Deaths']\n",
    "    df = df.join(new_deaths)      #make number of deaths the last column\n",
    "    df_train, df_test = train_test_split(df,test_size=0.2)   #create random 80-20 split of data\n",
    "    df2 = df_train.reset_index(drop=True)   #reset indices to start from 0\n",
    "    df3 = df_test.reset_index(drop=True)\n",
    "    X_train = df2.iloc[:, :-1]   #input is every column except last\n",
    "    y_train = df2.iloc[:, -1]    #output is last column\n",
    "    X_test = df3.iloc[:, :-1]\n",
    "    y_test = df3.iloc[:, -1]\n",
    "\n",
    "    return X_train,X_test,y_train,y_test"
   ]
  },
  {
   "cell_type": "code",
   "execution_count": 3,
   "metadata": {},
   "outputs": [],
   "source": [
    "regr = DecisionTreeRegressor(max_depth=10)"
   ]
  },
  {
   "cell_type": "code",
   "execution_count": 4,
   "metadata": {},
   "outputs": [],
   "source": [
    "X_train, X_test, y_train, y_test = process_input()"
   ]
  },
  {
   "cell_type": "code",
   "execution_count": 5,
   "metadata": {
    "scrolled": false
   },
   "outputs": [],
   "source": [
    "path = regr.cost_complexity_pruning_path(X_train, y_train)"
   ]
  },
  {
   "cell_type": "code",
   "execution_count": 6,
   "metadata": {},
   "outputs": [
    {
     "data": {
      "text/plain": [
       "{'ccp_alphas': array([0.00000000e+00, 8.36212654e-03, 9.81388461e-03, 1.06854925e-02,\n",
       "        1.94227487e-02, 3.20693360e-02, 3.55680729e-02, 3.57906758e-02,\n",
       "        3.91974681e-02, 4.04592219e-02, 4.55271334e-02, 4.88371418e-02,\n",
       "        5.58055806e-02, 5.78650669e-02, 6.37655701e-02, 6.91182021e-02,\n",
       "        8.05977718e-02, 8.16613919e-02, 8.38535466e-02, 8.45119189e-02,\n",
       "        8.85436213e-02, 9.06042217e-02, 9.29125171e-02, 1.05611667e-01,\n",
       "        1.07372028e-01, 1.07372028e-01, 1.21102433e-01, 1.22339653e-01,\n",
       "        1.25562556e-01, 1.25562556e-01, 1.39426846e-01, 1.49898861e-01,\n",
       "        1.54017015e-01, 1.85374989e-01, 1.86996119e-01, 1.94201678e-01,\n",
       "        1.98731163e-01, 2.12551900e-01, 2.23222322e-01, 2.27658895e-01,\n",
       "        2.31154314e-01, 2.36351054e-01, 2.43927065e-01, 2.62711110e-01,\n",
       "        2.66697638e-01, 2.67244466e-01, 2.67860409e-01, 2.68839553e-01,\n",
       "        2.71865896e-01, 2.82543277e-01, 2.93262391e-01, 3.01036555e-01,\n",
       "        3.09456752e-01, 3.17071223e-01, 3.19991677e-01, 3.22304811e-01,\n",
       "        3.26239076e-01, 3.31990715e-01, 3.72092509e-01, 3.81733923e-01,\n",
       "        3.93063500e-01, 3.93063500e-01, 4.01382074e-01, 4.19039323e-01,\n",
       "        4.30764230e-01, 4.51555046e-01, 4.86285725e-01, 5.12485119e-01,\n",
       "        5.24084667e-01, 5.43499621e-01, 5.59410780e-01, 5.71412684e-01,\n",
       "        6.03007075e-01, 6.30648549e-01, 6.44609622e-01, 6.48239017e-01,\n",
       "        6.48943120e-01, 6.53291136e-01, 6.55342954e-01, 6.64847130e-01,\n",
       "        6.83618362e-01, 7.02650910e-01, 7.27404239e-01, 7.29110917e-01,\n",
       "        7.69408554e-01, 7.82033042e-01, 8.25416413e-01, 8.36212654e-01,\n",
       "        8.56281757e-01, 8.86958033e-01, 8.88992125e-01, 9.14789060e-01,\n",
       "        9.29255829e-01, 9.91309453e-01, 1.02397337e+00, 1.02478732e+00,\n",
       "        1.02590979e+00, 1.02676590e+00, 1.02720595e+00, 1.03168462e+00,\n",
       "        1.03494382e+00, 1.08198078e+00, 1.08198078e+00, 1.10589123e+00,\n",
       "        1.11658924e+00, 1.12262420e+00, 1.27313570e+00, 1.31781888e+00,\n",
       "        1.35936819e+00, 1.39513951e+00, 1.69973713e+00, 1.71449726e+00,\n",
       "        1.75409550e+00, 1.83781346e+00, 1.84143027e+00, 1.91043980e+00,\n",
       "        1.93629098e+00, 1.95535844e+00, 1.96277692e+00, 1.96976472e+00,\n",
       "        2.08542145e+00, 2.17168960e+00, 2.17428356e+00, 2.19611545e+00,\n",
       "        2.35778578e+00, 2.41665457e+00, 2.41917192e+00, 2.52958683e+00,\n",
       "        2.56090125e+00, 2.64731957e+00, 2.68951637e+00, 2.69308866e+00,\n",
       "        2.69528192e+00, 2.78042518e+00, 2.88777910e+00, 2.90074330e+00,\n",
       "        2.91373653e+00, 2.93981011e+00, 2.97757131e+00, 3.20643032e+00,\n",
       "        3.25085053e+00, 3.34510314e+00, 3.36616242e+00, 3.41489794e+00,\n",
       "        3.42236731e+00, 3.43070468e+00, 3.62856562e+00, 3.79084521e+00,\n",
       "        3.82057722e+00, 3.85500434e+00, 3.89541535e+00, 3.90234507e+00,\n",
       "        3.91047008e+00, 3.97441743e+00, 4.14949237e+00, 4.22149957e+00,\n",
       "        4.32188437e+00, 4.32792311e+00, 4.41288645e+00, 4.50406492e+00,\n",
       "        4.64562585e+00, 4.74289364e+00, 4.74992015e+00, 4.79404153e+00,\n",
       "        4.79573885e+00, 4.79987515e+00, 4.80964548e+00, 4.81728270e+00,\n",
       "        4.98527917e+00, 5.11107800e+00, 5.15687698e+00, 5.22401111e+00,\n",
       "        5.22502468e+00, 5.27663428e+00, 5.31484376e+00, 5.46415972e+00,\n",
       "        5.46813875e+00, 5.49091199e+00, 5.49091199e+00, 5.71113082e+00,\n",
       "        5.78033449e+00, 5.81291678e+00, 5.87673606e+00, 5.99434395e+00,\n",
       "        6.07718998e+00, 6.09599024e+00, 6.11490972e+00, 6.13367788e+00,\n",
       "        6.20940159e+00, 6.25726646e+00, 6.26649923e+00, 6.30470950e+00,\n",
       "        6.36648665e+00, 6.44441218e+00, 6.47809297e+00, 6.74342020e+00,\n",
       "        6.87180976e+00, 6.96199660e+00, 7.11361459e+00, 7.15752301e+00,\n",
       "        7.21446822e+00, 7.21560059e+00, 7.33894196e+00, 7.48416132e+00,\n",
       "        7.70876095e+00, 7.73641880e+00, 7.86411544e+00, 8.36330246e+00,\n",
       "        8.38843965e+00, 8.45168549e+00, 8.62984524e+00, 8.70222990e+00,\n",
       "        8.87177105e+00, 8.94609622e+00, 9.06042217e+00, 9.22045750e+00,\n",
       "        9.36106675e+00, 9.73782701e+00, 9.73782701e+00, 9.90951192e+00,\n",
       "        1.01462791e+01, 1.01462791e+01, 1.01770256e+01, 1.02587807e+01,\n",
       "        1.09283194e+01, 1.09802398e+01, 1.10136320e+01, 1.11356271e+01,\n",
       "        1.11404431e+01, 1.13962429e+01, 1.18522739e+01, 1.23473984e+01,\n",
       "        1.24538239e+01, 1.27627731e+01, 1.28257213e+01, 1.29966806e+01,\n",
       "        1.30470079e+01, 1.33831238e+01, 1.35752301e+01, 1.36256400e+01,\n",
       "        1.36877704e+01, 1.37881200e+01, 1.38413325e+01, 1.40281786e+01,\n",
       "        1.44016724e+01, 1.44802454e+01, 1.46048169e+01, 1.47215383e+01,\n",
       "        1.47300433e+01, 1.51607096e+01, 1.51732738e+01, 1.54187596e+01,\n",
       "        1.60472215e+01, 1.61278128e+01, 1.62768987e+01, 1.63657704e+01,\n",
       "        1.64662031e+01, 1.65442399e+01, 1.66979496e+01, 1.69019628e+01,\n",
       "        1.69333062e+01, 1.71097603e+01, 1.72258277e+01, 1.73751633e+01,\n",
       "        1.74387503e+01, 1.78548968e+01, 1.80120554e+01, 1.81377622e+01,\n",
       "        1.87613648e+01, 1.87804264e+01, 1.89425491e+01, 1.95348567e+01,\n",
       "        1.95567516e+01, 1.99626768e+01, 2.01509872e+01, 2.03859499e+01,\n",
       "        2.10993898e+01, 2.12799135e+01, 2.16079672e+01, 2.16788711e+01,\n",
       "        2.17618560e+01, 2.22862431e+01, 2.27927325e+01, 2.31213379e+01,\n",
       "        2.35709813e+01, 2.38924731e+01, 2.41587062e+01, 2.51395212e+01,\n",
       "        2.59900119e+01, 2.61422166e+01, 2.65760141e+01, 2.74073924e+01,\n",
       "        2.75672019e+01, 2.75933940e+01, 2.81998974e+01, 2.82565039e+01,\n",
       "        2.95113390e+01, 3.06242269e+01, 3.06576900e+01, 3.16398527e+01,\n",
       "        3.26055310e+01, 3.28826834e+01, 3.38067420e+01, 3.40196134e+01,\n",
       "        3.42401982e+01, 3.56636859e+01, 3.64560854e+01, 3.66496521e+01,\n",
       "        3.69162490e+01, 3.74367832e+01, 3.87491780e+01, 4.01103385e+01,\n",
       "        4.09506160e+01, 4.15618594e+01, 4.15701058e+01, 4.33222685e+01,\n",
       "        4.36064647e+01, 4.45801032e+01, 4.48892118e+01, 4.51051992e+01,\n",
       "        4.51742981e+01, 4.60377747e+01, 4.65646758e+01, 4.72259652e+01,\n",
       "        4.75357124e+01, 4.81389236e+01, 4.96084705e+01, 4.96153035e+01,\n",
       "        4.96447497e+01, 5.01892385e+01, 5.03644697e+01, 5.09703057e+01,\n",
       "        5.13974672e+01, 5.14375599e+01, 5.18083292e+01, 5.24753661e+01,\n",
       "        5.28162210e+01, 5.46154946e+01, 5.52839155e+01, 5.56959728e+01,\n",
       "        5.75651162e+01, 6.01641261e+01, 6.01889182e+01, 6.08781394e+01,\n",
       "        6.35026301e+01, 6.35522222e+01, 6.59554044e+01, 6.72324265e+01,\n",
       "        6.76590498e+01, 6.90711845e+01, 7.37273090e+01, 7.59179176e+01,\n",
       "        7.64559140e+01, 7.84748435e+01, 7.85299715e+01, 7.95604222e+01,\n",
       "        7.95709813e+01, 7.96157743e+01, 8.34791208e+01, 8.38533051e+01,\n",
       "        8.50707227e+01, 8.53727282e+01, 8.55368182e+01, 8.69495732e+01,\n",
       "        8.73256874e+01, 8.83877162e+01, 8.93774089e+01, 8.94732078e+01,\n",
       "        9.31370610e+01, 9.31764660e+01, 9.33543756e+01, 9.60389603e+01,\n",
       "        9.93754430e+01, 1.00536008e+02, 1.01511344e+02, 1.03265694e+02,\n",
       "        1.03287570e+02, 1.05529234e+02, 1.10788985e+02, 1.11329886e+02,\n",
       "        1.14106275e+02, 1.15634790e+02, 1.17845891e+02, 1.22630384e+02,\n",
       "        1.29399962e+02, 1.30681842e+02, 1.30929378e+02, 1.32315365e+02,\n",
       "        1.32850049e+02, 1.36660673e+02, 1.37476167e+02, 1.37573889e+02,\n",
       "        1.43391950e+02, 1.43677601e+02, 1.45004868e+02, 1.47607272e+02,\n",
       "        1.48737145e+02, 1.52570024e+02, 1.59937545e+02, 1.67037024e+02,\n",
       "        1.67329999e+02, 1.67539317e+02, 1.69296133e+02, 1.80237863e+02,\n",
       "        1.83414068e+02, 1.84151099e+02, 1.86269592e+02, 1.90673225e+02,\n",
       "        1.92389132e+02, 2.03291667e+02, 2.28909100e+02, 2.46183370e+02,\n",
       "        2.53364188e+02, 2.61055203e+02, 2.62493467e+02, 2.64805204e+02,\n",
       "        2.66979357e+02, 2.73515802e+02, 3.04619281e+02, 3.05458160e+02,\n",
       "        3.07167063e+02, 3.07926182e+02, 3.18241689e+02, 3.18426257e+02,\n",
       "        3.28834111e+02, 3.43315426e+02, 3.48687683e+02, 3.54639910e+02,\n",
       "        3.63327904e+02, 3.69401367e+02, 3.69911828e+02, 3.84606140e+02,\n",
       "        3.90783113e+02, 3.97091759e+02, 4.01044460e+02, 4.04707783e+02,\n",
       "        4.07824354e+02, 4.11274036e+02, 4.19856008e+02, 4.20569128e+02,\n",
       "        4.41576029e+02, 4.86514135e+02, 4.90266004e+02, 4.95407237e+02,\n",
       "        5.15233655e+02, 5.35046529e+02, 5.45033853e+02, 5.81234596e+02,\n",
       "        5.86500868e+02, 6.24563325e+02, 6.34856723e+02, 7.04452499e+02,\n",
       "        7.29695127e+02, 7.29976830e+02, 7.59300911e+02, 7.90514539e+02,\n",
       "        7.94960894e+02, 8.16779497e+02, 8.77071984e+02, 9.04410210e+02,\n",
       "        9.22444972e+02, 9.44251279e+02, 9.82551610e+02, 9.83716154e+02,\n",
       "        1.09677990e+03, 1.12621130e+03, 1.15893519e+03, 1.17415088e+03,\n",
       "        1.23387098e+03, 1.24795590e+03, 1.25616630e+03, 1.28045063e+03,\n",
       "        1.35413124e+03, 1.42503090e+03, 1.53703159e+03, 1.53762955e+03,\n",
       "        1.65786459e+03, 1.74449139e+03, 1.82696747e+03, 1.85681340e+03,\n",
       "        1.87016034e+03, 1.91855726e+03, 2.20400697e+03, 2.22984793e+03,\n",
       "        2.24331206e+03, 2.43130661e+03, 2.44779165e+03, 2.58302134e+03,\n",
       "        2.66133653e+03, 2.85553627e+03, 2.86716241e+03, 2.88804332e+03,\n",
       "        2.96684644e+03, 3.06444768e+03, 3.16838498e+03, 3.29905083e+03,\n",
       "        3.60193415e+03, 3.65908540e+03, 3.86114552e+03, 4.26922734e+03,\n",
       "        4.35937819e+03, 4.59274988e+03, 4.84201972e+03, 5.19783269e+03,\n",
       "        5.69815797e+03, 5.99422664e+03, 6.21429936e+03, 6.85593109e+03,\n",
       "        7.55852877e+03, 8.00440876e+03, 8.70099312e+03, 9.66558630e+03,\n",
       "        1.16369037e+04, 1.19260663e+04, 1.37196708e+04, 1.37243040e+04,\n",
       "        1.41173964e+04, 1.46645786e+04, 1.49861467e+04, 1.57572876e+04,\n",
       "        1.57939994e+04, 1.58339767e+04, 1.63453727e+04, 1.67094199e+04,\n",
       "        1.98139070e+04, 2.01328761e+04, 2.22845252e+04, 2.31885524e+04,\n",
       "        2.74163197e+04, 3.00402782e+04, 3.26910848e+04, 3.57732787e+04,\n",
       "        3.68800441e+04, 3.92434940e+04, 3.92814040e+04, 4.21967202e+04,\n",
       "        4.44638836e+04, 5.52964284e+04, 5.86205194e+04, 5.87434895e+04,\n",
       "        5.99194974e+04, 6.21422165e+04, 9.77451027e+04, 1.00557770e+05,\n",
       "        1.01003452e+05, 1.22887107e+05, 1.38044387e+05, 1.47451060e+05,\n",
       "        2.02674876e+05, 2.46894699e+05, 2.49609624e+05, 2.69208629e+05,\n",
       "        2.73766885e+05, 3.64389263e+05, 6.77126694e+05, 7.45143834e+05,\n",
       "        8.51167032e+05, 1.08496607e+06, 1.17235592e+06, 1.46236122e+06,\n",
       "        2.48275117e+06, 5.18636510e+06, 1.35589736e+07, 6.05131165e+07]),\n",
       " 'impurities': array([  579492.70247352,   579492.71083565,   579492.72064953,\n",
       "          579492.73133502,   579492.75075777,   579492.78282711,\n",
       "          579492.81839518,   579492.85418586,   579492.89338332,\n",
       "          579492.93384255,   579492.97936968,   579493.02820682,\n",
       "          579493.0840124 ,   579493.14187747,   579493.20564304,\n",
       "          579493.27476124,   579493.35535901,   579493.4370204 ,\n",
       "          579493.52087395,   579493.60538587,   579493.69392949,\n",
       "          579493.78453371,   579493.87744623,   579493.9830579 ,\n",
       "          579494.09042993,   579494.19780195,   579494.31890439,\n",
       "          579494.44124404,   579494.56680659,   579494.69236915,\n",
       "          579494.831796  ,   579494.98169486,   579495.13571187,\n",
       "          579495.32108686,   579495.50808298,   579495.70228466,\n",
       "          579495.90101582,   579496.11356772,   579496.33679004,\n",
       "          579496.56444894,   579496.79560325,   579497.03195431,\n",
       "          579497.27588137,   579497.53859248,   579497.80529012,\n",
       "          579498.07253459,   579498.340395  ,   579498.60923455,\n",
       "          579498.88110044,   579499.16364372,   579499.45690611,\n",
       "          579499.75794267,   579500.06739942,   579500.38447064,\n",
       "          579500.70446232,   579501.02676713,   579501.35300621,\n",
       "          579501.68499692,   579502.05708943,   579502.43882335,\n",
       "          579502.83188685,   579503.22495035,   579503.62633243,\n",
       "          579504.04537175,   579504.47613598,   579504.92769103,\n",
       "          579505.41397675,   579505.92646187,   579506.45054654,\n",
       "          579506.99404616,   579507.55345694,   579508.12486962,\n",
       "          579508.7278767 ,   579509.35852524,   579510.00313487,\n",
       "          579510.65137388,   579511.300317  ,   579511.95360814,\n",
       "          579512.60895109,   579513.27379822,   579513.95741659,\n",
       "          579514.6600675 ,   579515.38747174,   579516.11658265,\n",
       "          579516.88599121,   579517.66802425,   579518.49344066,\n",
       "          579519.32965331,   579520.18593507,   579521.0728931 ,\n",
       "          579521.96188523,   579522.87667429,   579523.80593012,\n",
       "          579524.79723957,   579525.82121294,   579526.84600025,\n",
       "          579527.87191004,   579528.89867595,   579529.92588189,\n",
       "          579530.95756651,   579531.99251033,   579533.07449111,\n",
       "          579534.15647189,   579535.26236312,   579536.37895236,\n",
       "          579537.50157656,   579538.77471226,   579540.09253114,\n",
       "          579541.45189933,   579542.84703885,   579544.54677598,\n",
       "          579546.26127323,   579548.01536873,   579549.85318219,\n",
       "          579551.69461246,   579553.60505226,   579555.54134325,\n",
       "          579557.49670169,   579559.45947861,   579561.42924333,\n",
       "          579563.51466477,   579565.68635438,   579567.86063793,\n",
       "          579570.05675338,   579572.41453916,   579574.83119373,\n",
       "          579577.25036564,   579579.77995247,   579582.34085373,\n",
       "          579584.9881733 ,   579587.67768967,   579590.37077833,\n",
       "          579593.06606025,   579595.84648543,   579598.73426453,\n",
       "          579601.63500783,   579604.54874436,   579607.48855447,\n",
       "          579610.46612578,   579613.6725561 ,   579616.92340663,\n",
       "          579620.26850976,   579623.63467218,   579627.04957012,\n",
       "          579630.47193743,   579633.90264211,   579637.53120774,\n",
       "          579641.32205295,   579645.14263017,   579648.99763451,\n",
       "          579652.89304986,   579656.79539493,   579660.70586501,\n",
       "          579664.68028244,   579668.82977481,   579673.05127438,\n",
       "          579677.37315876,   579681.70108187,   579686.11396832,\n",
       "          579690.61803324,   579695.2636591 ,   579700.00655274,\n",
       "          579704.75647289,   579709.55051442,   579714.34625327,\n",
       "          579719.14612842,   579723.9557739 ,   579728.77305659,\n",
       "          579733.75833577,   579738.86941376,   579744.02629074,\n",
       "          579749.25030185,   579754.47532653,   579759.75196081,\n",
       "          579765.06680458,   579770.5309643 ,   579775.99910305,\n",
       "          579781.49001504,   579786.98092704,   579792.69205786,\n",
       "          579798.47239234,   579804.28530912,   579810.16204518,\n",
       "          579816.15638913,   579822.23357911,   579828.32956935,\n",
       "          579834.44447907,   579840.57815695,   579846.78755854,\n",
       "          579853.044825  ,   579859.31132423,   579865.61603373,\n",
       "          579871.98252038,   579878.42693257,   579884.90502554,\n",
       "          579891.64844574,   579898.5202555 ,   579905.4822521 ,\n",
       "          579912.59586669,   579919.7533897 ,   579926.96785792,\n",
       "          579934.18345851,   579941.52240047,   579949.00656179,\n",
       "          579956.71532274,   579964.45174154,   579972.31585699,\n",
       "          579980.67915945,   579989.0675991 ,   579997.51928459,\n",
       "          580006.14912983,   580014.85135973,   580023.72313078,\n",
       "          580032.669227  ,   580041.72964917,   580050.95010668,\n",
       "          580060.31117343,   580070.04900044,   580079.78682745,\n",
       "          580089.69633937,   580099.84261851,   580109.98889765,\n",
       "          580120.16592326,   580130.42470398,   580141.35302342,\n",
       "          580152.33326325,   580163.34689526,   580174.48252237,\n",
       "          580185.62296545,   580197.0192083 ,   580208.87148224,\n",
       "          580221.21888069,   580233.67270462,   580246.43547767,\n",
       "          580259.26119895,   580272.25787951,   580285.30488743,\n",
       "          580298.68801123,   580312.26324133,   580325.88888132,\n",
       "          580339.57665171,   580353.36477172,   580367.20610424,\n",
       "          580381.23428286,   580395.63595529,   580410.11620073,\n",
       "          580424.72101767,   580439.44255595,   580454.17259928,\n",
       "          580469.3333089 ,   580484.50658268,   580499.92534229,\n",
       "          580515.97256382,   580532.1003766 ,   580548.37727526,\n",
       "          580564.7430457 ,   580581.20924878,   580597.75348868,\n",
       "          580614.45143832,   580631.35340109,   580648.28670733,\n",
       "          580665.39646763,   580682.62229535,   580699.99745867,\n",
       "          580717.436209  ,   580735.29110578,   580753.30316118,\n",
       "          580771.44092334,   580790.20228819,   580808.98271462,\n",
       "          580827.92526371,   580847.46012042,   580867.01687207,\n",
       "          580886.97954891,   580907.13053611,   580927.516486  ,\n",
       "          580948.61587577,   580969.89578925,   580991.5037565 ,\n",
       "          581013.18262761,   581034.94448363,   581057.23072677,\n",
       "          581080.02345927,   581103.14479721,   581126.71577851,\n",
       "          581150.60825162,   581174.76695782,   581199.90647903,\n",
       "          581225.89649093,   581252.03870757,   581278.61472163,\n",
       "          581306.02211398,   581333.58931586,   581361.18270988,\n",
       "          581389.38260728,   581417.63911116,   581447.1504502 ,\n",
       "          581477.77467714,   581508.4323671 ,   581540.07221979,\n",
       "          581572.67775084,   581605.56043427,   581639.36717623,\n",
       "          581673.38678962,   581707.62698783,   581743.29067373,\n",
       "          581779.74675915,   581816.39641122,   581853.31266026,\n",
       "          581890.74944345,   581929.49862149,   581969.60895995,\n",
       "          582010.55957597,   582052.12143539,   582093.6915412 ,\n",
       "          582137.01380972,   582180.6202744 ,   582225.20037759,\n",
       "          582270.08958937,   582315.1947886 ,   582360.36908667,\n",
       "          582406.40686142,   582452.97153724,   582500.1975024 ,\n",
       "          582547.73321482,   582595.87213839,   582645.48060891,\n",
       "          582695.09591238,   582744.7406621 ,   582794.92990058,\n",
       "          582845.29437028,   582896.26467602,   582947.66214319,\n",
       "          582999.09970307,   583050.90803229,   583103.38339838,\n",
       "          583156.19961934,   583210.81511396,   583266.09902945,\n",
       "          583321.79500227,   583379.36011846,   583439.52424455,\n",
       "          583499.7131628 ,   583560.59130222,   583624.09393232,\n",
       "          583687.64615448,   583753.60155889,   583820.83398536,\n",
       "          583888.49303514,   583957.56421967,   584031.2915287 ,\n",
       "          584107.20944629,   584183.66536027,   584262.14020372,\n",
       "          584340.67017527,   584420.23059744,   584499.80157873,\n",
       "          584659.03312734,   584742.51224815,   584826.36555324,\n",
       "          584911.43627598,   584996.80900422,   585082.34582241,\n",
       "          585169.2953956 ,   585256.62108301,   585345.0087992 ,\n",
       "          585434.38620807,   585523.85941587,   585616.99647683,\n",
       "          585710.17294286,   585803.52731846,   585899.56627877,\n",
       "          585998.9417218 ,   586099.47773024,   586200.98907427,\n",
       "          586304.25476777,   586407.54233814,   586513.07157209,\n",
       "          586623.86055732,   586735.19044357,   586849.2967189 ,\n",
       "          586964.93150842,   587082.77739956,   587205.40778364,\n",
       "          587334.80774542,   587465.48958779,   587596.41896557,\n",
       "          587728.73433098,   587861.58437985,   587998.24505318,\n",
       "          588135.72122015,   588273.29510897,   588416.68705905,\n",
       "          588560.36465987,   588705.3695281 ,   588852.97679975,\n",
       "          589001.71394444,   589154.28396824,   589314.22151361,\n",
       "          589481.25853723,   589648.58853636,   589816.12785384,\n",
       "          589985.42398656,   590165.66184986,   590349.07591752,\n",
       "          590533.2270165 ,   590719.49660814,   590910.16983288,\n",
       "          591102.55896454,   591305.85063145,   591534.75973147,\n",
       "          591780.9431016 ,   592034.30728963,   592295.36249273,\n",
       "          592557.85595982,   592822.66116389,   593089.64052134,\n",
       "          593363.15632311,   593667.77560439,   593973.23376472,\n",
       "          594280.4008282 ,   594588.32701018,   594906.56869886,\n",
       "          595224.99495616,   595553.82906752,   595897.14449383,\n",
       "          596594.51985922,   596949.15976877,   597312.48767253,\n",
       "          597681.88903956,   598051.80086736,   598436.40700695,\n",
       "          598827.1901201 ,   599224.28187861,   599625.3263387 ,\n",
       "          600030.03412158,   600437.85847579,   600849.13251222,\n",
       "          601268.98851994,   601689.55764782,   602131.13367639,\n",
       "          602617.64781168,   603107.91381535,   603603.32105285,\n",
       "          604118.55470794,   604653.60123679,   605198.63509   ,\n",
       "          605779.86968629,   606366.37055396,   606990.93387945,\n",
       "          607625.7906029 ,   608330.24310153,   609059.93822857,\n",
       "          609789.91505899,   610549.21596989,   611339.73050925,\n",
       "          612134.69140372,   612951.47090054,   613828.54288449,\n",
       "          614732.95309422,   615655.39806584,   616599.64934506,\n",
       "          617582.20095506,   618565.91710893,   619662.69700446,\n",
       "          620788.90830785,   621947.84349653,   623121.9943783 ,\n",
       "          624355.86535814,   625603.82125476,   626859.98755099,\n",
       "          628140.43817669,   629494.56941708,   630919.60032033,\n",
       "          632456.63191421,   633994.26146216,   635652.12605101,\n",
       "          637396.61744257,   639223.58490956,   641080.39830703,\n",
       "          642950.55864307,   644869.11589895,   647073.12286764,\n",
       "          649302.97080082,   651546.28286403,   653977.58947446,\n",
       "          656425.38112395,   659008.40246625,   661669.73899745,\n",
       "          664525.27527157,   667392.43768442,   670280.48100924,\n",
       "          673247.32744934,   679376.22280493,   682544.60778859,\n",
       "          685843.65862141,   689445.59277545,   693104.67817666,\n",
       "          696965.82369517,   701235.05103597,   705594.4292254 ,\n",
       "          714779.92898876,   719621.94870671,   724819.7813998 ,\n",
       "          730517.93936611,   736512.16600553,   742726.46536721,\n",
       "          749582.39645268,   757140.92522503,   765145.33398943,\n",
       "          773846.3271085 ,   783511.91340592,   795148.81710583,\n",
       "          807074.8833845 ,   820794.55416642,   834518.85820972,\n",
       "          848636.25463111,   863300.83322203,   878286.97987869,\n",
       "          894044.26745802,   909838.26685957,   925672.24354219,\n",
       "          942017.61620372,   958727.03614217,   978540.94313998,\n",
       "          998673.81926791,  1020958.34447643,  1044146.89690653,\n",
       "         1071563.21657638,  1101603.49479486,  1134294.57962135,\n",
       "         1170067.85829228,  1206947.90243766,  1246191.39647381,\n",
       "         1285472.80050882,  1327669.52067496,  1372133.40426886,\n",
       "         1482726.26101279,  1541346.78042805,  1600090.26991019,\n",
       "         1660009.76733799,  1722151.98379333,  1819897.08649073,\n",
       "         1920454.85621248,  2021458.30851646,  2267232.52321126,\n",
       "         2405276.90999491,  2552727.97008436,  2755402.84590751,\n",
       "         3002297.54504712,  3251907.16880583,  3521115.79747521,\n",
       "         3794882.68227873,  4159271.94541463,  4836398.63912642,\n",
       "         5581542.47290218,  7283876.53757689,  8368842.60609203,\n",
       "         9541198.52793992, 12465920.96969045, 14948672.14278217,\n",
       "        20135037.2426148 , 33694010.83426646, 94207127.31799224])}"
      ]
     },
     "execution_count": 6,
     "metadata": {},
     "output_type": "execute_result"
    }
   ],
   "source": [
    "path"
   ]
  },
  {
   "cell_type": "code",
   "execution_count": 7,
   "metadata": {},
   "outputs": [],
   "source": [
    "ccp_alphas, impurities = path.ccp_alphas, path.impurities"
   ]
  },
  {
   "cell_type": "code",
   "execution_count": 8,
   "metadata": {},
   "outputs": [
    {
     "data": {
      "text/plain": [
       "Text(0, 0.5, 'Total Impurity of Leaves')"
      ]
     },
     "execution_count": 8,
     "metadata": {},
     "output_type": "execute_result"
    },
    {
     "data": {
      "image/png": "[encoded data removed]",
      "text/plain": [
       "<Figure size 720x432 with 1 Axes>"
      ]
     },
     "metadata": {
      "needs_background": "light"
     },
     "output_type": "display_data"
    }
   ],
   "source": [
    "plt.figure(figsize=(10, 6))\n",
    "plt.plot(ccp_alphas, impurities)\n",
    "plt.xlabel(\"Effective alpha\")\n",
    "plt.ylabel(\"Total Impurity of Leaves\")"
   ]
  },
  {
   "cell_type": "code",
   "execution_count": 9,
   "metadata": {},
   "outputs": [],
   "source": [
    "regrs = []\n",
    "\n",
    "for ccp_alpha in ccp_alphas:\n",
    "    regr = DecisionTreeRegressor(random_state=0, ccp_alpha=ccp_alpha, max_depth=10)\n",
    "    regr.fit(X_train, y_train)\n",
    "    regrs.append(regr)"
   ]
  },
  {
   "cell_type": "code",
   "execution_count": 10,
   "metadata": {},
   "outputs": [
    {
     "data": {
      "text/plain": [
       "Text(0, 0.5, 'Total Depth')"
      ]
     },
     "execution_count": 10,
     "metadata": {},
     "output_type": "execute_result"
    },
    {
     "data": {
      "image/png": "[encoded data removed]",
      "text/plain": [
       "<Figure size 720x432 with 1 Axes>"
      ]
     },
     "metadata": {
      "needs_background": "light"
     },
     "output_type": "display_data"
    }
   ],
   "source": [
    "# How depth changes alpha\n",
    "tree_depths = [regr.tree_.max_depth for regr in regrs]\n",
    "plt.figure(figsize=(10,  6))\n",
    "plt.plot(ccp_alphas[:-1], tree_depths[:-1])\n",
    "plt.xlabel(\"Effective Alpha\")\n",
    "plt.ylabel(\"Total Depth\")"
   ]
  },
  {
   "cell_type": "code",
   "execution_count": 11,
   "metadata": {},
   "outputs": [],
   "source": [
    "acc_scores = [r2_score(y_test, regr.predict(X_test)) for regr in regrs]"
   ]
  },
  {
   "cell_type": "code",
   "execution_count": 12,
   "metadata": {},
   "outputs": [
    {
     "data": {
      "text/plain": [
       "Text(0, 0.5, 'R2 scores')"
      ]
     },
     "execution_count": 12,
     "metadata": {},
     "output_type": "execute_result"
    },
    {
     "data": {
      "image/png": "[encoded data removed]",
      "text/plain": [
       "<Figure size 720x432 with 1 Axes>"
      ]
     },
     "metadata": {
      "needs_background": "light"
     },
     "output_type": "display_data"
    }
   ],
   "source": [
    "tree_depths = [regr.tree_.max_depth for regr in regrs]\n",
    "plt.figure(figsize=(10,  6))\n",
    "plt.grid()\n",
    "plt.plot(ccp_alphas[:-1], acc_scores[:-1])\n",
    "plt.xlabel(\"Effective Alpha\")\n",
    "plt.ylabel(\"R2 scores\")"
   ]
  },
  {
   "cell_type": "code",
   "execution_count": null,
   "metadata": {},
   "outputs": [],
   "source": []
  }
 ],
 "metadata": {
  "kernelspec": {
   "display_name": "Python 3",
   "language": "python",
   "name": "python3"
  },
  "language_info": {
   "codemirror_mode": {
    "name": "ipython",
    "version": 3
   },
   "file_extension": ".py",
   "mimetype": "text/x-python",
   "name": "python",
   "nbconvert_exporter": "python",
   "pygments_lexer": "ipython3",
   "version": "3.7.6"
  }
 },
 "nbformat": 4,
 "nbformat_minor": 4
}
